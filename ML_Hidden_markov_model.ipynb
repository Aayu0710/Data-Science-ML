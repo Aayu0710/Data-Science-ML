{
  "nbformat": 4,
  "nbformat_minor": 0,
  "metadata": {
    "colab": {
      "name": "ML_Hidden_markov_model.ipynb",
      "provenance": [],
      "collapsed_sections": [],
      "authorship_tag": "ABX9TyP9qrsZblTeC1+DOYjP6T6N",
      "include_colab_link": true
    },
    "kernelspec": {
      "name": "python3",
      "display_name": "Python 3"
    },
    "language_info": {
      "name": "python"
    }
  },
  "cells": [
    {
      "cell_type": "markdown",
      "metadata": {
        "id": "view-in-github",
        "colab_type": "text"
      },
      "source": [
        "<a href=\"https://colab.research.google.com/github/Aayu0710/Data-Science-ML/blob/main/ML_Hidden_markov_model.ipynb\" target=\"_parent\"><img src=\"https://colab.research.google.com/assets/colab-badge.svg\" alt=\"Open In Colab\"/></a>"
      ]
    },
    {
      "cell_type": "markdown",
      "source": [
        "**Clustering:**\n",
        "This is a ML techniques which involves grouping of data points.\n",
        "Data poinys who are in same group should have same property/features and vice versa.\n",
        "\n",
        "We use clustering to a very specific set of problems, when we have given the input data points and no output information(unsupervised)\n",
        "\n",
        "\n",
        "Basic Algo for K-means:\n",
        "step1: randomly pick k points to place K centroids\n",
        "step2: Assign all the data poitns to the centroid by distance. The closedt centroid to a point is the one it is assign to.\n",
        "step3: Average all the points belonging to each centroid.\n",
        "step4: Reassign every point once again to closest point\n",
        "step5: repeat steps 3-4 units"
      ],
      "metadata": {
        "id": "17CzNMjVONlm"
      }
    },
    {
      "cell_type": "markdown",
      "source": [
        "***Hidden Markov Model:***\n",
        "\n",
        "This is far more different than clustering, classificationa and LR.\n",
        "here we deals with the probability distribution.\n",
        "\n",
        "It works on probabiliies to pedict future events or states.\n",
        "\n",
        "Now, we are goig to learn now to create a hidden markov model that can predict the weather.\n",
        "\n",
        "\n"
      ],
      "metadata": {
        "id": "o1SdWh9VUsH3"
      }
    },
    {
      "cell_type": "markdown",
      "source": [
        "**Data**\n",
        "\n",
        "We are only intrested in probabilty distribution that have to do with state\n",
        "\n",
        "**States**\n",
        "\n",
        "In HMM we have some finte number of states, these can be \"warm\", \"hot\", \"red\", \"green\" etc.\n",
        "\n",
        "**Observation**\n",
        "\n",
        "each state have a particular outcomes associated with its probabilty that is know as observations\n",
        "\n",
        "**Transition**\n",
        "\n",
        "Each state have a probability defining liklyhoood of transiting to differnt state.\n",
        "\n",
        "*To create Hidden markov model*\n",
        "\n",
        "\n",
        "\n",
        "*   states\n",
        "*   observation distribution\n",
        "* Transition distribution\n",
        "\n",
        "\n",
        "\n",
        "\n",
        "\n",
        "\n",
        "\n"
      ],
      "metadata": {
        "id": "O5veo__SWGzW"
      }
    },
    {
      "cell_type": "code",
      "source": [
        "%tensorflow_version 2.x\n",
        "import tensorflow_probability as tfp  "
      ],
      "metadata": {
        "id": "aT1yoxmrYTln"
      },
      "execution_count": 17,
      "outputs": []
    },
    {
      "cell_type": "code",
      "source": [
        "import tensorflow as tf \n",
        "import numpy\n",
        "import matplotlib.pyplot as plt\n"
      ],
      "metadata": {
        "id": "jvCGUBlF1EoD"
      },
      "execution_count": 18,
      "outputs": []
    },
    {
      "cell_type": "markdown",
      "source": [
        "**Weather Model**\n",
        "\n",
        "We will model a simple system and try to predict the temperature on each day given the information.\n",
        "\n",
        "\n",
        "\n",
        "1.   cols days are encoded by 0 and hot as 1\n",
        "2.   The first day in our sequence has an 80% chance of being cold\n",
        "\n",
        "3. A hot day has a 20 % chance of being followed by a cold day\n",
        "4. A cold day has a 30% chance of ebing followed by a hot day\n",
        "5. On each day the temp is normaly distributed with mean and standard deivation 0 and 5 on a cold day and 15 and 10 on a hot day\n",
        "\n",
        "\n",
        "Standrad Deviation- ranges of expected values\n",
        "\n",
        "On a hot day the average temperature is 15 and ranges from 5 to 25(10)\n",
        "\n",
        "\n",
        "\n"
      ],
      "metadata": {
        "id": "45dRl33yZ6QQ"
      }
    },
    {
      "cell_type": "code",
      "source": [
        "#we are defining the states\n",
        "\n",
        "tfd = tfp.distributions #shortcut for later distribution model\n",
        "initial_distribution = tfd.Categorical(probs=[0.8, 0.2]) #point 2\n",
        "transition_distribution = tfd.Categorical(probs=[[0.7,0.3],\n",
        "                                         [0.2, 0.8]]) #point 3 and 4\n",
        "observation_distribution = tfd.Normal(loc=[0.,15.], scale=[5., 10.]) #point 5\n",
        "#loc represent the mean and scale represent the S.D."
      ],
      "metadata": {
        "id": "sOgPpyJnZr2M"
      },
      "execution_count": 19,
      "outputs": []
    },
    {
      "cell_type": "code",
      "source": [
        "# now we have created the distribtuion model now we need to create hidden Markov model\n",
        "model = tfd.HiddenMarkovModel(\n",
        "    initial_distribution=initial_distribution,\n",
        "    transition_distribution=transition_distribution,\n",
        "    observation_distribution=observation_distribution,\n",
        "    num_steps = 7) #steps= how many dayz we wanted to predict for"
      ],
      "metadata": {
        "id": "SGeGbk04x7Yf"
      },
      "execution_count": 20,
      "outputs": []
    },
    {
      "cell_type": "code",
      "source": [
        " # now we will write the expected temaperature on each day\n",
        " mean  = model.mean()\n",
        " with tf.compat.v1.Session() as sess: #this is to run a session  in new version of tensorflow\n",
        "   print(mean.numpy())\n"
      ],
      "metadata": {
        "id": "EdyyrqFKyjYK",
        "colab": {
          "base_uri": "https://localhost:8080/"
        },
        "outputId": "301e3870-09d0-4c16-cb8a-9bbb1c262237"
      },
      "execution_count": 21,
      "outputs": [
        {
          "output_type": "stream",
          "name": "stdout",
          "text": [
            "[2.9999998 5.9999995 7.4999995 8.25      8.625001  8.812501  8.90625  ]\n"
          ]
        }
      ]
    }
  ]
}