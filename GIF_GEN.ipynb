{
  "nbformat": 4,
  "nbformat_minor": 0,
  "metadata": {
    "colab": {
      "provenance": [],
      "authorship_tag": "ABX9TyM8EkPmtiVlthL7DxVLWzNB",
      "include_colab_link": true
    },
    "kernelspec": {
      "name": "python3",
      "display_name": "Python 3"
    },
    "language_info": {
      "name": "python"
    }
  },
  "cells": [
    {
      "cell_type": "markdown",
      "metadata": {
        "id": "view-in-github",
        "colab_type": "text"
      },
      "source": [
        "<a href=\"https://colab.research.google.com/github/Aayu0710/Data-Science-ML/blob/main/GIF_GEN.ipynb\" target=\"_parent\"><img src=\"https://colab.research.google.com/assets/colab-badge.svg\" alt=\"Open In Colab\"/></a>"
      ]
    },
    {
      "cell_type": "code",
      "source": [
        "import os\n",
        "import csv\n",
        "import requests\n",
        "from zipfile import ZipFile\n",
        "from IPython.display import display, Image\n",
        "from google.colab import drive"
      ],
      "metadata": {
        "id": "AKyq3kUwbHDi"
      },
      "execution_count": 7,
      "outputs": []
    },
    {
      "cell_type": "code",
      "execution_count": 1,
      "metadata": {
        "id": "xHb_57yEav6w"
      },
      "outputs": [],
      "source": [
        "# Function to search for GIFs using the Giphy API\n",
        "def search_gifs(api_key, query, limit):\n",
        "    url = f\"https://api.giphy.com/v1/gifs/search?api_key={api_key}&q={query}&limit={limit}\"\n",
        "    response = requests.get(url)\n",
        "    if response.status_code == 200:\n",
        "        data = response.json()\n",
        "        gifs = [gif['images']['original']['url'] for gif in data['data']]\n",
        "        return gifs\n",
        "    else:\n",
        "        print(\"Error fetching GIFs:\", response.text)\n",
        "        return []"
      ]
    },
    {
      "cell_type": "code",
      "source": [
        "# Function to create annotations\n",
        "def create_annotations(api_key, queries, annotation_file, limit_per_query):\n",
        "    annotations = []\n",
        "    for query in queries:\n",
        "        gifs = search_gifs(api_key, query, limit_per_query)\n",
        "        for gif_url in gifs:\n",
        "            # Extract text description from the URL or use a placeholder\n",
        "            text_description = gif_url.split('/')[-1].split('-')[0].replace('_', ' ')\n",
        "            annotations.append({'gif_url': gif_url, 'text_description': text_description})\n",
        "    # Write annotations to CSV file\n",
        "    with open(annotation_file, 'w', newline='') as csvfile:\n",
        "        fieldnames = ['gif_url', 'text_description']\n",
        "        writer = csv.DictWriter(csvfile, fieldnames=fieldnames)\n",
        "        writer.writeheader()\n",
        "        for annotation in annotations:\n",
        "            writer.writerow(annotation)\n",
        "            # Display the GIF\n",
        "            display(Image(url=annotation['gif_url']))"
      ],
      "metadata": {
        "id": "wAhQbPYQa0OQ"
      },
      "execution_count": 2,
      "outputs": []
    },
    {
      "cell_type": "code",
      "source": [
        "# Function to download GIFs and save them locally\n",
        "def download_gifs(api_key, queries, limit_per_query, download_dir):\n",
        "    for query in queries:\n",
        "        url = f\"https://api.giphy.com/v1/gifs/search?api_key={api_key}&q={query}&limit={limit_per_query}\"\n",
        "        response = requests.get(url)\n",
        "        if response.status_code == 200:\n",
        "            data = response.json()\n",
        "            for idx, gif in enumerate(data['data']):\n",
        "                gif_url = gif['images']['original']['url']\n",
        "                # Construct filename for the GIF\n",
        "                filename = f\"{query}_gif_{idx}.gif\"\n",
        "                # Download GIF and save it locally\n",
        "                gif_response = requests.get(gif_url)\n",
        "                if gif_response.status_code == 200:\n",
        "                    with open(os.path.join(download_dir, filename), 'wb') as f:\n",
        "                        f.write(gif_response.content)\n",
        "                        print(f\"Downloaded {filename} successfully!\")\n",
        "                else:\n",
        "                    print(f\"Error downloading GIF: {gif_url}\")\n",
        "        else:\n",
        "            print(\"Error fetching GIFs:\", response.text)"
      ],
      "metadata": {
        "id": "veUnfqGGa8cp"
      },
      "execution_count": 3,
      "outputs": []
    },
    {
      "cell_type": "code",
      "source": [
        "# Zip the downloaded GIFs\n",
        "def zip_downloaded_gifs(download_dir, zip_filename):\n",
        "    with ZipFile(zip_filename, 'w') as zipf:\n",
        "        # Iterate over files in the download directory and add them to the zip file\n",
        "        for root, dirs, files in os.walk(download_dir):\n",
        "            for file in files:\n",
        "                zipf.write(os.path.join(root, file), os.path.relpath(os.path.join(root, file), download_dir))"
      ],
      "metadata": {
        "id": "M9e_v2DUa-Ak"
      },
      "execution_count": 4,
      "outputs": []
    },
    {
      "cell_type": "code",
      "source": [
        "# Set your API key, queries, limit per query, and download directory\n",
        "api_key = 'T611HdtC8FyTtKFu5hNhFOgILuGPzmuk'\n",
        "queries = ['happy', 'sad']\n",
        "limit_per_query = 100\n",
        "annotation_file = 'annotations.csv'\n",
        "download_dir = 'downloaded_gifs'\n",
        "zip_filename = 'downloaded_gifs.zip'"
      ],
      "metadata": {
        "id": "2-gPKanGa_yW"
      },
      "execution_count": 5,
      "outputs": []
    },
    {
      "cell_type": "code",
      "source": [
        "# Create the download directory if it doesn't exist\n",
        "if not os.path.exists(download_dir):\n",
        "    os.makedirs(download_dir)"
      ],
      "metadata": {
        "id": "m5-E5dXRbBJr"
      },
      "execution_count": 8,
      "outputs": []
    },
    {
      "cell_type": "code",
      "source": [
        "# Call functions to create annotations and download GIFs\n",
        "create_annotations(api_key, queries, annotation_file, limit_per_query)\n",
        "download_gifs(api_key, queries, limit_per_query, download_dir)\n",
        "\n",
        "# Zip the downloaded GIFs\n",
        "zip_downloaded_gifs(download_dir, zip_filename)"
      ],
      "metadata": {
        "colab": {
          "base_uri": "https://localhost:8080/",
          "height": 1000
        },
        "id": "Sz3-TkTXbDDx",
        "outputId": "2ea3eb6b-cf47-4ef3-b247-e3ce7648f264"
      },
      "execution_count": 9,
      "outputs": [
        {
          "output_type": "display_data",
          "data": {
            "text/html": [
              "<img src=\"https://media0.giphy.com/media/MeIucAjPKoA120R7sN/giphy.gif?cid=29868866ntcc5vfcequlm07hhrpj8q1q0w7nun42eo1ob5tb&ep=v1_gifs_search&rid=giphy.gif&ct=g\"/>"
            ],
            "text/plain": [
              "<IPython.core.display.Image object>"
            ]
          },
          "metadata": {}
        },
        {
          "output_type": "display_data",
          "data": {
            "text/html": [
              "<img src=\"https://media4.giphy.com/media/chzz1FQgqhytWRWbp3/giphy.gif?cid=29868866ntcc5vfcequlm07hhrpj8q1q0w7nun42eo1ob5tb&ep=v1_gifs_search&rid=giphy.gif&ct=g\"/>"
            ],
            "text/plain": [
              "<IPython.core.display.Image object>"
            ]
          },
          "metadata": {}
        },
        {
          "output_type": "display_data",
          "data": {
            "text/html": [
              "<img src=\"https://media3.giphy.com/media/fPRwBcYd71Lox1v7p2/giphy.gif?cid=29868866ntcc5vfcequlm07hhrpj8q1q0w7nun42eo1ob5tb&ep=v1_gifs_search&rid=giphy.gif&ct=g\"/>"
            ],
            "text/plain": [
              "<IPython.core.display.Image object>"
            ]
          },
          "metadata": {}
        },
        {
          "output_type": "display_data",
          "data": {
            "text/html": [
              "<img src=\"https://media2.giphy.com/media/9o59Pga7BWlDrzWhhh/giphy.gif?cid=29868866ntcc5vfcequlm07hhrpj8q1q0w7nun42eo1ob5tb&ep=v1_gifs_search&rid=giphy.gif&ct=g\"/>"
            ],
            "text/plain": [
              "<IPython.core.display.Image object>"
            ]
          },
          "metadata": {}
        },
        {
          "output_type": "display_data",
          "data": {
            "text/html": [
              "<img src=\"https://media1.giphy.com/media/CyoQdbc7FHqqTpkSPI/giphy.gif?cid=29868866ntcc5vfcequlm07hhrpj8q1q0w7nun42eo1ob5tb&ep=v1_gifs_search&rid=giphy.gif&ct=g\"/>"
            ],
            "text/plain": [
              "<IPython.core.display.Image object>"
            ]
          },
          "metadata": {}
        },
        {
          "output_type": "display_data",
          "data": {
            "text/html": [
              "<img src=\"https://media1.giphy.com/media/azaMjwRFm0vjNSd51t/giphy.gif?cid=29868866ntcc5vfcequlm07hhrpj8q1q0w7nun42eo1ob5tb&ep=v1_gifs_search&rid=giphy.gif&ct=g\"/>"
            ],
            "text/plain": [
              "<IPython.core.display.Image object>"
            ]
          },
          "metadata": {}
        },
        {
          "output_type": "display_data",
          "data": {
            "text/html": [
              "<img src=\"https://media3.giphy.com/media/xT5LMHxhOfscxPfIfm/giphy.gif?cid=29868866ntcc5vfcequlm07hhrpj8q1q0w7nun42eo1ob5tb&ep=v1_gifs_search&rid=giphy.gif&ct=g\"/>"
            ],
            "text/plain": [
              "<IPython.core.display.Image object>"
            ]
          },
          "metadata": {}
        },
        {
          "output_type": "display_data",
          "data": {
            "text/html": [
              "<img src=\"https://media0.giphy.com/media/o75ajIFH0QnQC3nCeD/giphy.gif?cid=29868866ntcc5vfcequlm07hhrpj8q1q0w7nun42eo1ob5tb&ep=v1_gifs_search&rid=giphy.gif&ct=g\"/>"
            ],
            "text/plain": [
              "<IPython.core.display.Image object>"
            ]
          },
          "metadata": {}
        },
        {
          "output_type": "display_data",
          "data": {
            "text/html": [
              "<img src=\"https://media0.giphy.com/media/t3sZxY5zS5B0z5zMIz/giphy.gif?cid=29868866ntcc5vfcequlm07hhrpj8q1q0w7nun42eo1ob5tb&ep=v1_gifs_search&rid=giphy.gif&ct=g\"/>"
            ],
            "text/plain": [
              "<IPython.core.display.Image object>"
            ]
          },
          "metadata": {}
        },
        {
          "output_type": "display_data",
          "data": {
            "text/html": [
              "<img src=\"https://media1.giphy.com/media/CAxbo8KC2A0y4/giphy.gif?cid=29868866ntcc5vfcequlm07hhrpj8q1q0w7nun42eo1ob5tb&ep=v1_gifs_search&rid=giphy.gif&ct=g\"/>"
            ],
            "text/plain": [
              "<IPython.core.display.Image object>"
            ]
          },
          "metadata": {}
        },
        {
          "output_type": "display_data",
          "data": {
            "text/html": [
              "<img src=\"https://media4.giphy.com/media/3NtY188QaxDdC/giphy.gif?cid=29868866ntcc5vfcequlm07hhrpj8q1q0w7nun42eo1ob5tb&ep=v1_gifs_search&rid=giphy.gif&ct=g\"/>"
            ],
            "text/plain": [
              "<IPython.core.display.Image object>"
            ]
          },
          "metadata": {}
        },
        {
          "output_type": "display_data",
          "data": {
            "text/html": [
              "<img src=\"https://media3.giphy.com/media/l4pTfx2qLszoacZRS/giphy.gif?cid=29868866ntcc5vfcequlm07hhrpj8q1q0w7nun42eo1ob5tb&ep=v1_gifs_search&rid=giphy.gif&ct=g\"/>"
            ],
            "text/plain": [
              "<IPython.core.display.Image object>"
            ]
          },
          "metadata": {}
        },
        {
          "output_type": "display_data",
          "data": {
            "text/html": [
              "<img src=\"https://media0.giphy.com/media/cMPdlbcUKl3xkMCyD3/giphy.gif?cid=29868866ntcc5vfcequlm07hhrpj8q1q0w7nun42eo1ob5tb&ep=v1_gifs_search&rid=giphy.gif&ct=g\"/>"
            ],
            "text/plain": [
              "<IPython.core.display.Image object>"
            ]
          },
          "metadata": {}
        },
        {
          "output_type": "display_data",
          "data": {
            "text/html": [
              "<img src=\"https://media4.giphy.com/media/YnBntKOgnUSBkV7bQH/giphy.gif?cid=29868866ntcc5vfcequlm07hhrpj8q1q0w7nun42eo1ob5tb&ep=v1_gifs_search&rid=giphy.gif&ct=g\"/>"
            ],
            "text/plain": [
              "<IPython.core.display.Image object>"
            ]
          },
          "metadata": {}
        },
        {
          "output_type": "display_data",
          "data": {
            "text/html": [
              "<img src=\"https://media4.giphy.com/media/5K7ngCtszoxxbaBieC/giphy.gif?cid=29868866ntcc5vfcequlm07hhrpj8q1q0w7nun42eo1ob5tb&ep=v1_gifs_search&rid=giphy.gif&ct=g\"/>"
            ],
            "text/plain": [
              "<IPython.core.display.Image object>"
            ]
          },
          "metadata": {}
        },
        {
          "output_type": "display_data",
          "data": {
            "text/html": [
              "<img src=\"https://media0.giphy.com/media/fUQ4rhUZJYiQsas6WD/giphy.gif?cid=29868866ntcc5vfcequlm07hhrpj8q1q0w7nun42eo1ob5tb&ep=v1_gifs_search&rid=giphy.gif&ct=g\"/>"
            ],
            "text/plain": [
              "<IPython.core.display.Image object>"
            ]
          },
          "metadata": {}
        },
        {
          "output_type": "display_data",
          "data": {
            "text/html": [
              "<img src=\"https://media3.giphy.com/media/5GoVLqeAOo6PK/giphy.gif?cid=29868866ntcc5vfcequlm07hhrpj8q1q0w7nun42eo1ob5tb&ep=v1_gifs_search&rid=giphy.gif&ct=g\"/>"
            ],
            "text/plain": [
              "<IPython.core.display.Image object>"
            ]
          },
          "metadata": {}
        },
        {
          "output_type": "display_data",
          "data": {
            "text/html": [
              "<img src=\"https://media1.giphy.com/media/rjkJD1v80CjYs/giphy.gif?cid=29868866ntcc5vfcequlm07hhrpj8q1q0w7nun42eo1ob5tb&ep=v1_gifs_search&rid=giphy.gif&ct=g\"/>"
            ],
            "text/plain": [
              "<IPython.core.display.Image object>"
            ]
          },
          "metadata": {}
        },
        {
          "output_type": "display_data",
          "data": {
            "text/html": [
              "<img src=\"https://media1.giphy.com/media/B0vFTrb0ZGDf2/giphy.gif?cid=29868866ntcc5vfcequlm07hhrpj8q1q0w7nun42eo1ob5tb&ep=v1_gifs_search&rid=giphy.gif&ct=g\"/>"
            ],
            "text/plain": [
              "<IPython.core.display.Image object>"
            ]
          },
          "metadata": {}
        },
        {
          "output_type": "display_data",
          "data": {
            "text/html": [
              "<img src=\"https://media0.giphy.com/media/9Y6n9TR7U07ew/giphy.gif?cid=29868866ntcc5vfcequlm07hhrpj8q1q0w7nun42eo1ob5tb&ep=v1_gifs_search&rid=giphy.gif&ct=g\"/>"
            ],
            "text/plain": [
              "<IPython.core.display.Image object>"
            ]
          },
          "metadata": {}
        },
        {
          "output_type": "display_data",
          "data": {
            "text/html": [
              "<img src=\"https://media0.giphy.com/media/aQYR1p8saOQla/giphy.gif?cid=29868866ntcc5vfcequlm07hhrpj8q1q0w7nun42eo1ob5tb&ep=v1_gifs_search&rid=giphy.gif&ct=g\"/>"
            ],
            "text/plain": [
              "<IPython.core.display.Image object>"
            ]
          },
          "metadata": {}
        },
        {
          "output_type": "display_data",
          "data": {
            "text/html": [
              "<img src=\"https://media4.giphy.com/media/F6PFPjc3K0CPe/giphy.gif?cid=29868866ntcc5vfcequlm07hhrpj8q1q0w7nun42eo1ob5tb&ep=v1_gifs_search&rid=giphy.gif&ct=g\"/>"
            ],
            "text/plain": [
              "<IPython.core.display.Image object>"
            ]
          },
          "metadata": {}
        },
        {
          "output_type": "display_data",
          "data": {
            "text/html": [
              "<img src=\"https://media2.giphy.com/media/rdma0nDFZMR32/giphy.gif?cid=29868866ntcc5vfcequlm07hhrpj8q1q0w7nun42eo1ob5tb&ep=v1_gifs_search&rid=giphy.gif&ct=g\"/>"
            ],
            "text/plain": [
              "<IPython.core.display.Image object>"
            ]
          },
          "metadata": {}
        },
        {
          "output_type": "display_data",
          "data": {
            "text/html": [
              "<img src=\"https://media0.giphy.com/media/10UeedrT5MIfPG/giphy.gif?cid=29868866ntcc5vfcequlm07hhrpj8q1q0w7nun42eo1ob5tb&ep=v1_gifs_search&rid=giphy.gif&ct=g\"/>"
            ],
            "text/plain": [
              "<IPython.core.display.Image object>"
            ]
          },
          "metadata": {}
        },
        {
          "output_type": "display_data",
          "data": {
            "text/html": [
              "<img src=\"https://media3.giphy.com/media/l8XYZYdlOHSrS/giphy.gif?cid=29868866ntcc5vfcequlm07hhrpj8q1q0w7nun42eo1ob5tb&ep=v1_gifs_search&rid=giphy.gif&ct=g\"/>"
            ],
            "text/plain": [
              "<IPython.core.display.Image object>"
            ]
          },
          "metadata": {}
        },
        {
          "output_type": "display_data",
          "data": {
            "text/html": [
              "<img src=\"https://media3.giphy.com/media/rDDv72OIYB39K/giphy.gif?cid=29868866ntcc5vfcequlm07hhrpj8q1q0w7nun42eo1ob5tb&ep=v1_gifs_search&rid=giphy.gif&ct=g\"/>"
            ],
            "text/plain": [
              "<IPython.core.display.Image object>"
            ]
          },
          "metadata": {}
        },
        {
          "output_type": "display_data",
          "data": {
            "text/html": [
              "<img src=\"https://media2.giphy.com/media/yoJC2GnSClbPOkV0eA/giphy.gif?cid=29868866ntcc5vfcequlm07hhrpj8q1q0w7nun42eo1ob5tb&ep=v1_gifs_search&rid=giphy.gif&ct=g\"/>"
            ],
            "text/plain": [
              "<IPython.core.display.Image object>"
            ]
          },
          "metadata": {}
        },
        {
          "output_type": "display_data",
          "data": {
            "text/html": [
              "<img src=\"https://media4.giphy.com/media/14udF3WUwwGMaA/giphy.gif?cid=29868866ntcc5vfcequlm07hhrpj8q1q0w7nun42eo1ob5tb&ep=v1_gifs_search&rid=giphy.gif&ct=g\"/>"
            ],
            "text/plain": [
              "<IPython.core.display.Image object>"
            ]
          },
          "metadata": {}
        },
        {
          "output_type": "display_data",
          "data": {
            "text/html": [
              "<img src=\"https://media0.giphy.com/media/xSM46ernAUN3y/giphy.gif?cid=29868866ntcc5vfcequlm07hhrpj8q1q0w7nun42eo1ob5tb&ep=v1_gifs_search&rid=giphy.gif&ct=g\"/>"
            ],
            "text/plain": [
              "<IPython.core.display.Image object>"
            ]
          },
          "metadata": {}
        },
        {
          "output_type": "display_data",
          "data": {
            "text/html": [
              "<img src=\"https://media3.giphy.com/media/DYH297XiCS2Ck/giphy.gif?cid=29868866ntcc5vfcequlm07hhrpj8q1q0w7nun42eo1ob5tb&ep=v1_gifs_search&rid=giphy.gif&ct=g\"/>"
            ],
            "text/plain": [
              "<IPython.core.display.Image object>"
            ]
          },
          "metadata": {}
        },
        {
          "output_type": "display_data",
          "data": {
            "text/html": [
              "<img src=\"https://media1.giphy.com/media/12SXVd8bmXdSg0/giphy.gif?cid=29868866ntcc5vfcequlm07hhrpj8q1q0w7nun42eo1ob5tb&ep=v1_gifs_search&rid=giphy.gif&ct=g\"/>"
            ],
            "text/plain": [
              "<IPython.core.display.Image object>"
            ]
          },
          "metadata": {}
        },
        {
          "output_type": "display_data",
          "data": {
            "text/html": [
              "<img src=\"https://media4.giphy.com/media/JltOMwYmi0VrO/giphy.gif?cid=29868866ntcc5vfcequlm07hhrpj8q1q0w7nun42eo1ob5tb&ep=v1_gifs_search&rid=giphy.gif&ct=g\"/>"
            ],
            "text/plain": [
              "<IPython.core.display.Image object>"
            ]
          },
          "metadata": {}
        },
        {
          "output_type": "display_data",
          "data": {
            "text/html": [
              "<img src=\"https://media2.giphy.com/media/CKOh1Chw6Mwi4/giphy.gif?cid=29868866ntcc5vfcequlm07hhrpj8q1q0w7nun42eo1ob5tb&ep=v1_gifs_search&rid=giphy.gif&ct=g\"/>"
            ],
            "text/plain": [
              "<IPython.core.display.Image object>"
            ]
          },
          "metadata": {}
        },
        {
          "output_type": "display_data",
          "data": {
            "text/html": [
              "<img src=\"https://media4.giphy.com/media/axu6dFuca4HKM/giphy.gif?cid=29868866ntcc5vfcequlm07hhrpj8q1q0w7nun42eo1ob5tb&ep=v1_gifs_search&rid=giphy.gif&ct=g\"/>"
            ],
            "text/plain": [
              "<IPython.core.display.Image object>"
            ]
          },
          "metadata": {}
        },
        {
          "output_type": "display_data",
          "data": {
            "text/html": [
              "<img src=\"https://media1.giphy.com/media/LEdz8xl9uFxKw/giphy.gif?cid=29868866ntcc5vfcequlm07hhrpj8q1q0w7nun42eo1ob5tb&ep=v1_gifs_search&rid=giphy.gif&ct=g\"/>"
            ],
            "text/plain": [
              "<IPython.core.display.Image object>"
            ]
          },
          "metadata": {}
        },
        {
          "output_type": "display_data",
          "data": {
            "text/html": [
              "<img src=\"https://media3.giphy.com/media/ZFTKZ8zwj38gE/giphy.gif?cid=29868866ntcc5vfcequlm07hhrpj8q1q0w7nun42eo1ob5tb&ep=v1_gifs_search&rid=giphy.gif&ct=g\"/>"
            ],
            "text/plain": [
              "<IPython.core.display.Image object>"
            ]
          },
          "metadata": {}
        },
        {
          "output_type": "display_data",
          "data": {
            "text/html": [
              "<img src=\"https://media0.giphy.com/media/31lPv5L3aIvTi/giphy.gif?cid=29868866ntcc5vfcequlm07hhrpj8q1q0w7nun42eo1ob5tb&ep=v1_gifs_search&rid=giphy.gif&ct=g\"/>"
            ],
            "text/plain": [
              "<IPython.core.display.Image object>"
            ]
          },
          "metadata": {}
        },
        {
          "output_type": "display_data",
          "data": {
            "text/html": [
              "<img src=\"https://media4.giphy.com/media/12PIT4DOj6Tgek/giphy.gif?cid=29868866ntcc5vfcequlm07hhrpj8q1q0w7nun42eo1ob5tb&ep=v1_gifs_search&rid=giphy.gif&ct=g\"/>"
            ],
            "text/plain": [
              "<IPython.core.display.Image object>"
            ]
          },
          "metadata": {}
        },
        {
          "output_type": "display_data",
          "data": {
            "text/html": [
              "<img src=\"https://media2.giphy.com/media/TgKEjjz1lzjmEsuz80/giphy.gif?cid=29868866ntcc5vfcequlm07hhrpj8q1q0w7nun42eo1ob5tb&ep=v1_gifs_search&rid=giphy.gif&ct=g\"/>"
            ],
            "text/plain": [
              "<IPython.core.display.Image object>"
            ]
          },
          "metadata": {}
        },
        {
          "output_type": "display_data",
          "data": {
            "text/html": [
              "<img src=\"https://media3.giphy.com/media/1136UBdSNn6Bu8/giphy.gif?cid=29868866ntcc5vfcequlm07hhrpj8q1q0w7nun42eo1ob5tb&ep=v1_gifs_search&rid=giphy.gif&ct=g\"/>"
            ],
            "text/plain": [
              "<IPython.core.display.Image object>"
            ]
          },
          "metadata": {}
        },
        {
          "output_type": "display_data",
          "data": {
            "text/html": [
              "<img src=\"https://media2.giphy.com/media/6EQzurED9q9uU/giphy.gif?cid=29868866ntcc5vfcequlm07hhrpj8q1q0w7nun42eo1ob5tb&ep=v1_gifs_search&rid=giphy.gif&ct=g\"/>"
            ],
            "text/plain": [
              "<IPython.core.display.Image object>"
            ]
          },
          "metadata": {}
        },
        {
          "output_type": "display_data",
          "data": {
            "text/html": [
              "<img src=\"https://media2.giphy.com/media/AJLX3Xgsld2XEqT9al/giphy.gif?cid=29868866ntcc5vfcequlm07hhrpj8q1q0w7nun42eo1ob5tb&ep=v1_gifs_search&rid=giphy.gif&ct=g\"/>"
            ],
            "text/plain": [
              "<IPython.core.display.Image object>"
            ]
          },
          "metadata": {}
        },
        {
          "output_type": "display_data",
          "data": {
            "text/html": [
              "<img src=\"https://media2.giphy.com/media/7JO6BhBHo67WKYXfAO/giphy.gif?cid=29868866ntcc5vfcequlm07hhrpj8q1q0w7nun42eo1ob5tb&ep=v1_gifs_search&rid=giphy.gif&ct=g\"/>"
            ],
            "text/plain": [
              "<IPython.core.display.Image object>"
            ]
          },
          "metadata": {}
        },
        {
          "output_type": "display_data",
          "data": {
            "text/html": [
              "<img src=\"https://media3.giphy.com/media/WUq1cg9K7uzHa/giphy.gif?cid=29868866ntcc5vfcequlm07hhrpj8q1q0w7nun42eo1ob5tb&ep=v1_gifs_search&rid=giphy.gif&ct=g\"/>"
            ],
            "text/plain": [
              "<IPython.core.display.Image object>"
            ]
          },
          "metadata": {}
        },
        {
          "output_type": "display_data",
          "data": {
            "text/html": [
              "<img src=\"https://media1.giphy.com/media/14urMYvFxIKEms/giphy.gif?cid=29868866ntcc5vfcequlm07hhrpj8q1q0w7nun42eo1ob5tb&ep=v1_gifs_search&rid=giphy.gif&ct=g\"/>"
            ],
            "text/plain": [
              "<IPython.core.display.Image object>"
            ]
          },
          "metadata": {}
        },
        {
          "output_type": "display_data",
          "data": {
            "text/html": [
              "<img src=\"https://media4.giphy.com/media/yq1YQCQoaEny8/giphy.gif?cid=29868866ntcc5vfcequlm07hhrpj8q1q0w7nun42eo1ob5tb&ep=v1_gifs_search&rid=giphy.gif&ct=g\"/>"
            ],
            "text/plain": [
              "<IPython.core.display.Image object>"
            ]
          },
          "metadata": {}
        },
        {
          "output_type": "display_data",
          "data": {
            "text/html": [
              "<img src=\"https://media4.giphy.com/media/Md4xQfuJeTtx6/giphy.gif?cid=29868866ntcc5vfcequlm07hhrpj8q1q0w7nun42eo1ob5tb&ep=v1_gifs_search&rid=giphy.gif&ct=g\"/>"
            ],
            "text/plain": [
              "<IPython.core.display.Image object>"
            ]
          },
          "metadata": {}
        },
        {
          "output_type": "display_data",
          "data": {
            "text/html": [
              "<img src=\"https://media3.giphy.com/media/LZElUsjl1Bu6c/giphy.gif?cid=29868866ntcc5vfcequlm07hhrpj8q1q0w7nun42eo1ob5tb&ep=v1_gifs_search&rid=giphy.gif&ct=g\"/>"
            ],
            "text/plain": [
              "<IPython.core.display.Image object>"
            ]
          },
          "metadata": {}
        },
        {
          "output_type": "display_data",
          "data": {
            "text/html": [
              "<img src=\"https://media3.giphy.com/media/tkYpAbKdWj4TS/giphy.gif?cid=29868866ntcc5vfcequlm07hhrpj8q1q0w7nun42eo1ob5tb&ep=v1_gifs_search&rid=giphy.gif&ct=g\"/>"
            ],
            "text/plain": [
              "<IPython.core.display.Image object>"
            ]
          },
          "metadata": {}
        },
        {
          "output_type": "display_data",
          "data": {
            "text/html": [
              "<img src=\"https://media1.giphy.com/media/Ka2V8MODoM7vrUd7hm/giphy.gif?cid=29868866ntcc5vfcequlm07hhrpj8q1q0w7nun42eo1ob5tb&ep=v1_gifs_search&rid=giphy.gif&ct=g\"/>"
            ],
            "text/plain": [
              "<IPython.core.display.Image object>"
            ]
          },
          "metadata": {}
        },
        {
          "output_type": "display_data",
          "data": {
            "text/html": [
              "<img src=\"https://media2.giphy.com/media/OPU6wzx8JrHna/giphy.gif?cid=2986886684luzrog2rrxvzykdkqvej54y2wcmh3ejdi2abom&ep=v1_gifs_search&rid=giphy.gif&ct=g\"/>"
            ],
            "text/plain": [
              "<IPython.core.display.Image object>"
            ]
          },
          "metadata": {}
        },
        {
          "output_type": "display_data",
          "data": {
            "text/html": [
              "<img src=\"https://media4.giphy.com/media/7SF5scGB2AFrgsXP63/giphy.gif?cid=2986886684luzrog2rrxvzykdkqvej54y2wcmh3ejdi2abom&ep=v1_gifs_search&rid=giphy.gif&ct=g\"/>"
            ],
            "text/plain": [
              "<IPython.core.display.Image object>"
            ]
          },
          "metadata": {}
        },
        {
          "output_type": "display_data",
          "data": {
            "text/html": [
              "<img src=\"https://media0.giphy.com/media/W0c3xcZ3F1d0EYYb0f/giphy.gif?cid=2986886684luzrog2rrxvzykdkqvej54y2wcmh3ejdi2abom&ep=v1_gifs_search&rid=giphy.gif&ct=g\"/>"
            ],
            "text/plain": [
              "<IPython.core.display.Image object>"
            ]
          },
          "metadata": {}
        },
        {
          "output_type": "display_data",
          "data": {
            "text/html": [
              "<img src=\"https://media4.giphy.com/media/gfsQffBnuc6e096brx/giphy.gif?cid=2986886684luzrog2rrxvzykdkqvej54y2wcmh3ejdi2abom&ep=v1_gifs_search&rid=giphy.gif&ct=g\"/>"
            ],
            "text/plain": [
              "<IPython.core.display.Image object>"
            ]
          },
          "metadata": {}
        },
        {
          "output_type": "display_data",
          "data": {
            "text/html": [
              "<img src=\"https://media2.giphy.com/media/ISOckXUybVfQ4/giphy.gif?cid=2986886684luzrog2rrxvzykdkqvej54y2wcmh3ejdi2abom&ep=v1_gifs_search&rid=giphy.gif&ct=g\"/>"
            ],
            "text/plain": [
              "<IPython.core.display.Image object>"
            ]
          },
          "metadata": {}
        },
        {
          "output_type": "display_data",
          "data": {
            "text/html": [
              "<img src=\"https://media2.giphy.com/media/3o6wrebnKWmvx4ZBio/giphy.gif?cid=2986886684luzrog2rrxvzykdkqvej54y2wcmh3ejdi2abom&ep=v1_gifs_search&rid=giphy.gif&ct=g\"/>"
            ],
            "text/plain": [
              "<IPython.core.display.Image object>"
            ]
          },
          "metadata": {}
        },
        {
          "output_type": "display_data",
          "data": {
            "text/html": [
              "<img src=\"https://media4.giphy.com/media/HoSyEAe48WBpTCmEz4/giphy.gif?cid=2986886684luzrog2rrxvzykdkqvej54y2wcmh3ejdi2abom&ep=v1_gifs_search&rid=giphy.gif&ct=g\"/>"
            ],
            "text/plain": [
              "<IPython.core.display.Image object>"
            ]
          },
          "metadata": {}
        },
        {
          "output_type": "display_data",
          "data": {
            "text/html": [
              "<img src=\"https://media0.giphy.com/media/l1KVaj5UcbHwrBMqI/giphy.gif?cid=2986886684luzrog2rrxvzykdkqvej54y2wcmh3ejdi2abom&ep=v1_gifs_search&rid=giphy.gif&ct=g\"/>"
            ],
            "text/plain": [
              "<IPython.core.display.Image object>"
            ]
          },
          "metadata": {}
        },
        {
          "output_type": "display_data",
          "data": {
            "text/html": [
              "<img src=\"https://media3.giphy.com/media/T1WqKkLY753dZghbu6/giphy.gif?cid=2986886684luzrog2rrxvzykdkqvej54y2wcmh3ejdi2abom&ep=v1_gifs_search&rid=giphy.gif&ct=g\"/>"
            ],
            "text/plain": [
              "<IPython.core.display.Image object>"
            ]
          },
          "metadata": {}
        },
        {
          "output_type": "display_data",
          "data": {
            "text/html": [
              "<img src=\"https://media3.giphy.com/media/d7rvF20PqNuGKSQGhf/giphy.gif?cid=2986886684luzrog2rrxvzykdkqvej54y2wcmh3ejdi2abom&ep=v1_gifs_search&rid=giphy.gif&ct=g\"/>"
            ],
            "text/plain": [
              "<IPython.core.display.Image object>"
            ]
          },
          "metadata": {}
        },
        {
          "output_type": "display_data",
          "data": {
            "text/html": [
              "<img src=\"https://media3.giphy.com/media/yoJC2Olx0ekMy2nX7W/giphy.gif?cid=2986886684luzrog2rrxvzykdkqvej54y2wcmh3ejdi2abom&ep=v1_gifs_search&rid=giphy.gif&ct=g\"/>"
            ],
            "text/plain": [
              "<IPython.core.display.Image object>"
            ]
          },
          "metadata": {}
        },
        {
          "output_type": "display_data",
          "data": {
            "text/html": [
              "<img src=\"https://media1.giphy.com/media/d2lcHJTG5Tscg/giphy.gif?cid=2986886684luzrog2rrxvzykdkqvej54y2wcmh3ejdi2abom&ep=v1_gifs_search&rid=giphy.gif&ct=g\"/>"
            ],
            "text/plain": [
              "<IPython.core.display.Image object>"
            ]
          },
          "metadata": {}
        },
        {
          "output_type": "display_data",
          "data": {
            "text/html": [
              "<img src=\"https://media4.giphy.com/media/qQdL532ZANbjy/giphy.gif?cid=2986886684luzrog2rrxvzykdkqvej54y2wcmh3ejdi2abom&ep=v1_gifs_search&rid=giphy.gif&ct=g\"/>"
            ],
            "text/plain": [
              "<IPython.core.display.Image object>"
            ]
          },
          "metadata": {}
        },
        {
          "output_type": "display_data",
          "data": {
            "text/html": [
              "<img src=\"https://media1.giphy.com/media/9Y5BbDSkSTiY8/giphy.gif?cid=2986886684luzrog2rrxvzykdkqvej54y2wcmh3ejdi2abom&ep=v1_gifs_search&rid=giphy.gif&ct=g\"/>"
            ],
            "text/plain": [
              "<IPython.core.display.Image object>"
            ]
          },
          "metadata": {}
        },
        {
          "output_type": "display_data",
          "data": {
            "text/html": [
              "<img src=\"https://media3.giphy.com/media/RIXdN6jjGtRd7dtIMC/giphy.gif?cid=2986886684luzrog2rrxvzykdkqvej54y2wcmh3ejdi2abom&ep=v1_gifs_search&rid=giphy.gif&ct=g\"/>"
            ],
            "text/plain": [
              "<IPython.core.display.Image object>"
            ]
          },
          "metadata": {}
        },
        {
          "output_type": "display_data",
          "data": {
            "text/html": [
              "<img src=\"https://media4.giphy.com/media/Ty9Sg8oHghPWg/giphy.gif?cid=2986886684luzrog2rrxvzykdkqvej54y2wcmh3ejdi2abom&ep=v1_gifs_search&rid=giphy.gif&ct=g\"/>"
            ],
            "text/plain": [
              "<IPython.core.display.Image object>"
            ]
          },
          "metadata": {}
        },
        {
          "output_type": "display_data",
          "data": {
            "text/html": [
              "<img src=\"https://media4.giphy.com/media/NTY1kHmcLsCsg/giphy.gif?cid=2986886684luzrog2rrxvzykdkqvej54y2wcmh3ejdi2abom&ep=v1_gifs_search&rid=giphy.gif&ct=g\"/>"
            ],
            "text/plain": [
              "<IPython.core.display.Image object>"
            ]
          },
          "metadata": {}
        },
        {
          "output_type": "display_data",
          "data": {
            "text/html": [
              "<img src=\"https://media0.giphy.com/media/1BXa2alBjrCXC/giphy.gif?cid=2986886684luzrog2rrxvzykdkqvej54y2wcmh3ejdi2abom&ep=v1_gifs_search&rid=giphy.gif&ct=g\"/>"
            ],
            "text/plain": [
              "<IPython.core.display.Image object>"
            ]
          },
          "metadata": {}
        },
        {
          "output_type": "display_data",
          "data": {
            "text/html": [
              "<img src=\"https://media3.giphy.com/media/M28rUlcjueKUE/giphy.gif?cid=2986886684luzrog2rrxvzykdkqvej54y2wcmh3ejdi2abom&ep=v1_gifs_search&rid=giphy.gif&ct=g\"/>"
            ],
            "text/plain": [
              "<IPython.core.display.Image object>"
            ]
          },
          "metadata": {}
        },
        {
          "output_type": "display_data",
          "data": {
            "text/html": [
              "<img src=\"https://media0.giphy.com/media/BLJy2x6QwzgdrCfAlD/giphy.gif?cid=2986886684luzrog2rrxvzykdkqvej54y2wcmh3ejdi2abom&ep=v1_gifs_search&rid=giphy.gif&ct=g\"/>"
            ],
            "text/plain": [
              "<IPython.core.display.Image object>"
            ]
          },
          "metadata": {}
        },
        {
          "output_type": "display_data",
          "data": {
            "text/html": [
              "<img src=\"https://media4.giphy.com/media/3oEjI80DSa1grNPTDq/giphy.gif?cid=2986886684luzrog2rrxvzykdkqvej54y2wcmh3ejdi2abom&ep=v1_gifs_search&rid=giphy.gif&ct=g\"/>"
            ],
            "text/plain": [
              "<IPython.core.display.Image object>"
            ]
          },
          "metadata": {}
        },
        {
          "output_type": "display_data",
          "data": {
            "text/html": [
              "<img src=\"https://media1.giphy.com/media/l22ysLe54hZP0wubek/giphy.gif?cid=2986886684luzrog2rrxvzykdkqvej54y2wcmh3ejdi2abom&ep=v1_gifs_search&rid=giphy.gif&ct=g\"/>"
            ],
            "text/plain": [
              "<IPython.core.display.Image object>"
            ]
          },
          "metadata": {}
        },
        {
          "output_type": "display_data",
          "data": {
            "text/html": [
              "<img src=\"https://media3.giphy.com/media/iJJ6E58EttmFqgLo96/giphy.gif?cid=2986886684luzrog2rrxvzykdkqvej54y2wcmh3ejdi2abom&ep=v1_gifs_search&rid=giphy.gif&ct=g\"/>"
            ],
            "text/plain": [
              "<IPython.core.display.Image object>"
            ]
          },
          "metadata": {}
        },
        {
          "output_type": "display_data",
          "data": {
            "text/html": [
              "<img src=\"https://media4.giphy.com/media/ePbtplyRUqBCdKwd43/giphy.gif?cid=2986886684luzrog2rrxvzykdkqvej54y2wcmh3ejdi2abom&ep=v1_gifs_search&rid=giphy.gif&ct=g\"/>"
            ],
            "text/plain": [
              "<IPython.core.display.Image object>"
            ]
          },
          "metadata": {}
        },
        {
          "output_type": "display_data",
          "data": {
            "text/html": [
              "<img src=\"https://media2.giphy.com/media/Y4z9olnoVl5QI/giphy.gif?cid=2986886684luzrog2rrxvzykdkqvej54y2wcmh3ejdi2abom&ep=v1_gifs_search&rid=giphy.gif&ct=g\"/>"
            ],
            "text/plain": [
              "<IPython.core.display.Image object>"
            ]
          },
          "metadata": {}
        },
        {
          "output_type": "display_data",
          "data": {
            "text/html": [
              "<img src=\"https://media0.giphy.com/media/TU76e2JHkPchG/giphy.gif?cid=2986886684luzrog2rrxvzykdkqvej54y2wcmh3ejdi2abom&ep=v1_gifs_search&rid=giphy.gif&ct=g\"/>"
            ],
            "text/plain": [
              "<IPython.core.display.Image object>"
            ]
          },
          "metadata": {}
        },
        {
          "output_type": "display_data",
          "data": {
            "text/html": [
              "<img src=\"https://media0.giphy.com/media/6qFFgNgextP9u/giphy.gif?cid=2986886684luzrog2rrxvzykdkqvej54y2wcmh3ejdi2abom&ep=v1_gifs_search&rid=giphy.gif&ct=g\"/>"
            ],
            "text/plain": [
              "<IPython.core.display.Image object>"
            ]
          },
          "metadata": {}
        },
        {
          "output_type": "display_data",
          "data": {
            "text/html": [
              "<img src=\"https://media2.giphy.com/media/8boMf1VXVHoJy/giphy.gif?cid=2986886684luzrog2rrxvzykdkqvej54y2wcmh3ejdi2abom&ep=v1_gifs_search&rid=giphy.gif&ct=g\"/>"
            ],
            "text/plain": [
              "<IPython.core.display.Image object>"
            ]
          },
          "metadata": {}
        },
        {
          "output_type": "display_data",
          "data": {
            "text/html": [
              "<img src=\"https://media0.giphy.com/media/xFnyJDPKOcqcH57m7e/giphy.gif?cid=2986886684luzrog2rrxvzykdkqvej54y2wcmh3ejdi2abom&ep=v1_gifs_search&rid=giphy.gif&ct=g\"/>"
            ],
            "text/plain": [
              "<IPython.core.display.Image object>"
            ]
          },
          "metadata": {}
        },
        {
          "output_type": "display_data",
          "data": {
            "text/html": [
              "<img src=\"https://media4.giphy.com/media/EYmAHLpw5LBbG/giphy.gif?cid=2986886684luzrog2rrxvzykdkqvej54y2wcmh3ejdi2abom&ep=v1_gifs_search&rid=giphy.gif&ct=g\"/>"
            ],
            "text/plain": [
              "<IPython.core.display.Image object>"
            ]
          },
          "metadata": {}
        },
        {
          "output_type": "display_data",
          "data": {
            "text/html": [
              "<img src=\"https://media4.giphy.com/media/ULKnZ7hW07rlS/giphy.gif?cid=2986886684luzrog2rrxvzykdkqvej54y2wcmh3ejdi2abom&ep=v1_gifs_search&rid=giphy.gif&ct=g\"/>"
            ],
            "text/plain": [
              "<IPython.core.display.Image object>"
            ]
          },
          "metadata": {}
        },
        {
          "output_type": "display_data",
          "data": {
            "text/html": [
              "<img src=\"https://media3.giphy.com/media/k61nOBRRBMxva/giphy.gif?cid=2986886684luzrog2rrxvzykdkqvej54y2wcmh3ejdi2abom&ep=v1_gifs_search&rid=giphy.gif&ct=g\"/>"
            ],
            "text/plain": [
              "<IPython.core.display.Image object>"
            ]
          },
          "metadata": {}
        },
        {
          "output_type": "display_data",
          "data": {
            "text/html": [
              "<img src=\"https://media2.giphy.com/media/tajVAagrp6tva/giphy.gif?cid=2986886684luzrog2rrxvzykdkqvej54y2wcmh3ejdi2abom&ep=v1_gifs_search&rid=giphy.gif&ct=g\"/>"
            ],
            "text/plain": [
              "<IPython.core.display.Image object>"
            ]
          },
          "metadata": {}
        },
        {
          "output_type": "display_data",
          "data": {
            "text/html": [
              "<img src=\"https://media2.giphy.com/media/J1XSaMzkdlqDl89NVf/giphy.gif?cid=2986886684luzrog2rrxvzykdkqvej54y2wcmh3ejdi2abom&ep=v1_gifs_search&rid=giphy.gif&ct=g\"/>"
            ],
            "text/plain": [
              "<IPython.core.display.Image object>"
            ]
          },
          "metadata": {}
        },
        {
          "output_type": "display_data",
          "data": {
            "text/html": [
              "<img src=\"https://media0.giphy.com/media/QhCAwDXZ0BltK/giphy.gif?cid=2986886684luzrog2rrxvzykdkqvej54y2wcmh3ejdi2abom&ep=v1_gifs_search&rid=giphy.gif&ct=g\"/>"
            ],
            "text/plain": [
              "<IPython.core.display.Image object>"
            ]
          },
          "metadata": {}
        },
        {
          "output_type": "display_data",
          "data": {
            "text/html": [
              "<img src=\"https://media1.giphy.com/media/ChX3hzy5CkXsI/giphy.gif?cid=2986886684luzrog2rrxvzykdkqvej54y2wcmh3ejdi2abom&ep=v1_gifs_search&rid=giphy.gif&ct=g\"/>"
            ],
            "text/plain": [
              "<IPython.core.display.Image object>"
            ]
          },
          "metadata": {}
        },
        {
          "output_type": "display_data",
          "data": {
            "text/html": [
              "<img src=\"https://media2.giphy.com/media/xEsdRSsp9cR0s/giphy.gif?cid=2986886684luzrog2rrxvzykdkqvej54y2wcmh3ejdi2abom&ep=v1_gifs_search&rid=giphy.gif&ct=g\"/>"
            ],
            "text/plain": [
              "<IPython.core.display.Image object>"
            ]
          },
          "metadata": {}
        },
        {
          "output_type": "display_data",
          "data": {
            "text/html": [
              "<img src=\"https://media2.giphy.com/media/fuDUlcnXPIGQ3AQaYj/giphy.gif?cid=2986886684luzrog2rrxvzykdkqvej54y2wcmh3ejdi2abom&ep=v1_gifs_search&rid=giphy.gif&ct=g\"/>"
            ],
            "text/plain": [
              "<IPython.core.display.Image object>"
            ]
          },
          "metadata": {}
        },
        {
          "output_type": "display_data",
          "data": {
            "text/html": [
              "<img src=\"https://media2.giphy.com/media/zvBuF2oYRErVS/giphy.gif?cid=2986886684luzrog2rrxvzykdkqvej54y2wcmh3ejdi2abom&ep=v1_gifs_search&rid=giphy.gif&ct=g\"/>"
            ],
            "text/plain": [
              "<IPython.core.display.Image object>"
            ]
          },
          "metadata": {}
        },
        {
          "output_type": "display_data",
          "data": {
            "text/html": [
              "<img src=\"https://media0.giphy.com/media/GakjmpYiwZQfS/giphy.gif?cid=2986886684luzrog2rrxvzykdkqvej54y2wcmh3ejdi2abom&ep=v1_gifs_search&rid=giphy.gif&ct=g\"/>"
            ],
            "text/plain": [
              "<IPython.core.display.Image object>"
            ]
          },
          "metadata": {}
        },
        {
          "output_type": "display_data",
          "data": {
            "text/html": [
              "<img src=\"https://media3.giphy.com/media/Txh1UzI7d0aqs/giphy.gif?cid=2986886684luzrog2rrxvzykdkqvej54y2wcmh3ejdi2abom&ep=v1_gifs_search&rid=giphy.gif&ct=g\"/>"
            ],
            "text/plain": [
              "<IPython.core.display.Image object>"
            ]
          },
          "metadata": {}
        },
        {
          "output_type": "display_data",
          "data": {
            "text/html": [
              "<img src=\"https://media1.giphy.com/media/hM6GJJK4RXdQY/giphy.gif?cid=2986886684luzrog2rrxvzykdkqvej54y2wcmh3ejdi2abom&ep=v1_gifs_search&rid=giphy.gif&ct=g\"/>"
            ],
            "text/plain": [
              "<IPython.core.display.Image object>"
            ]
          },
          "metadata": {}
        },
        {
          "output_type": "display_data",
          "data": {
            "text/html": [
              "<img src=\"https://media0.giphy.com/media/10tIjpzIu8fe0/giphy.gif?cid=2986886684luzrog2rrxvzykdkqvej54y2wcmh3ejdi2abom&ep=v1_gifs_search&rid=giphy.gif&ct=g\"/>"
            ],
            "text/plain": [
              "<IPython.core.display.Image object>"
            ]
          },
          "metadata": {}
        },
        {
          "output_type": "display_data",
          "data": {
            "text/html": [
              "<img src=\"https://media4.giphy.com/media/pVAMI8QYM42n6/giphy.gif?cid=2986886684luzrog2rrxvzykdkqvej54y2wcmh3ejdi2abom&ep=v1_gifs_search&rid=giphy.gif&ct=g\"/>"
            ],
            "text/plain": [
              "<IPython.core.display.Image object>"
            ]
          },
          "metadata": {}
        },
        {
          "output_type": "display_data",
          "data": {
            "text/html": [
              "<img src=\"https://media3.giphy.com/media/E2d2tsgz7iHo4/giphy.gif?cid=2986886684luzrog2rrxvzykdkqvej54y2wcmh3ejdi2abom&ep=v1_gifs_search&rid=giphy.gif&ct=g\"/>"
            ],
            "text/plain": [
              "<IPython.core.display.Image object>"
            ]
          },
          "metadata": {}
        },
        {
          "output_type": "display_data",
          "data": {
            "text/html": [
              "<img src=\"https://media1.giphy.com/media/MuztdWJQ4PR7i/giphy.gif?cid=2986886684luzrog2rrxvzykdkqvej54y2wcmh3ejdi2abom&ep=v1_gifs_search&rid=giphy.gif&ct=g\"/>"
            ],
            "text/plain": [
              "<IPython.core.display.Image object>"
            ]
          },
          "metadata": {}
        },
        {
          "output_type": "display_data",
          "data": {
            "text/html": [
              "<img src=\"https://media1.giphy.com/media/Ph8OWoJA2M3eM/giphy.gif?cid=2986886684luzrog2rrxvzykdkqvej54y2wcmh3ejdi2abom&ep=v1_gifs_search&rid=giphy.gif&ct=g\"/>"
            ],
            "text/plain": [
              "<IPython.core.display.Image object>"
            ]
          },
          "metadata": {}
        },
        {
          "output_type": "display_data",
          "data": {
            "text/html": [
              "<img src=\"https://media1.giphy.com/media/111RMoa4bwH9zq/giphy.gif?cid=2986886684luzrog2rrxvzykdkqvej54y2wcmh3ejdi2abom&ep=v1_gifs_search&rid=giphy.gif&ct=g\"/>"
            ],
            "text/plain": [
              "<IPython.core.display.Image object>"
            ]
          },
          "metadata": {}
        },
        {
          "output_type": "display_data",
          "data": {
            "text/html": [
              "<img src=\"https://media1.giphy.com/media/O3JyUHiKqsviE/giphy.gif?cid=2986886684luzrog2rrxvzykdkqvej54y2wcmh3ejdi2abom&ep=v1_gifs_search&rid=giphy.gif&ct=g\"/>"
            ],
            "text/plain": [
              "<IPython.core.display.Image object>"
            ]
          },
          "metadata": {}
        },
        {
          "output_type": "display_data",
          "data": {
            "text/html": [
              "<img src=\"https://media1.giphy.com/media/149sl8c88YtXtS/giphy.gif?cid=2986886684luzrog2rrxvzykdkqvej54y2wcmh3ejdi2abom&ep=v1_gifs_search&rid=giphy.gif&ct=g\"/>"
            ],
            "text/plain": [
              "<IPython.core.display.Image object>"
            ]
          },
          "metadata": {}
        },
        {
          "output_type": "stream",
          "name": "stdout",
          "text": [
            "Downloaded happy_gif_0.gif successfully!\n",
            "Downloaded happy_gif_1.gif successfully!\n",
            "Downloaded happy_gif_2.gif successfully!\n",
            "Downloaded happy_gif_3.gif successfully!\n",
            "Downloaded happy_gif_4.gif successfully!\n",
            "Downloaded happy_gif_5.gif successfully!\n",
            "Downloaded happy_gif_6.gif successfully!\n",
            "Downloaded happy_gif_7.gif successfully!\n",
            "Downloaded happy_gif_8.gif successfully!\n",
            "Downloaded happy_gif_9.gif successfully!\n",
            "Downloaded happy_gif_10.gif successfully!\n",
            "Downloaded happy_gif_11.gif successfully!\n",
            "Downloaded happy_gif_12.gif successfully!\n",
            "Downloaded happy_gif_13.gif successfully!\n",
            "Downloaded happy_gif_14.gif successfully!\n",
            "Downloaded happy_gif_15.gif successfully!\n",
            "Downloaded happy_gif_16.gif successfully!\n",
            "Downloaded happy_gif_17.gif successfully!\n",
            "Downloaded happy_gif_18.gif successfully!\n",
            "Downloaded happy_gif_19.gif successfully!\n",
            "Downloaded happy_gif_20.gif successfully!\n",
            "Downloaded happy_gif_21.gif successfully!\n",
            "Downloaded happy_gif_22.gif successfully!\n",
            "Downloaded happy_gif_23.gif successfully!\n",
            "Downloaded happy_gif_24.gif successfully!\n",
            "Downloaded happy_gif_25.gif successfully!\n",
            "Downloaded happy_gif_26.gif successfully!\n",
            "Downloaded happy_gif_27.gif successfully!\n",
            "Downloaded happy_gif_28.gif successfully!\n",
            "Downloaded happy_gif_29.gif successfully!\n",
            "Downloaded happy_gif_30.gif successfully!\n",
            "Downloaded happy_gif_31.gif successfully!\n",
            "Downloaded happy_gif_32.gif successfully!\n",
            "Downloaded happy_gif_33.gif successfully!\n",
            "Downloaded happy_gif_34.gif successfully!\n",
            "Downloaded happy_gif_35.gif successfully!\n",
            "Downloaded happy_gif_36.gif successfully!\n",
            "Downloaded happy_gif_37.gif successfully!\n",
            "Downloaded happy_gif_38.gif successfully!\n",
            "Downloaded happy_gif_39.gif successfully!\n",
            "Downloaded happy_gif_40.gif successfully!\n",
            "Downloaded happy_gif_41.gif successfully!\n",
            "Downloaded happy_gif_42.gif successfully!\n",
            "Downloaded happy_gif_43.gif successfully!\n",
            "Downloaded happy_gif_44.gif successfully!\n",
            "Downloaded happy_gif_45.gif successfully!\n",
            "Downloaded happy_gif_46.gif successfully!\n",
            "Downloaded happy_gif_47.gif successfully!\n",
            "Downloaded happy_gif_48.gif successfully!\n",
            "Downloaded happy_gif_49.gif successfully!\n",
            "Downloaded sad_gif_0.gif successfully!\n",
            "Downloaded sad_gif_1.gif successfully!\n",
            "Downloaded sad_gif_2.gif successfully!\n",
            "Downloaded sad_gif_3.gif successfully!\n",
            "Downloaded sad_gif_4.gif successfully!\n",
            "Downloaded sad_gif_5.gif successfully!\n",
            "Downloaded sad_gif_6.gif successfully!\n",
            "Downloaded sad_gif_7.gif successfully!\n",
            "Downloaded sad_gif_8.gif successfully!\n",
            "Downloaded sad_gif_9.gif successfully!\n",
            "Downloaded sad_gif_10.gif successfully!\n",
            "Downloaded sad_gif_11.gif successfully!\n",
            "Downloaded sad_gif_12.gif successfully!\n",
            "Downloaded sad_gif_13.gif successfully!\n",
            "Downloaded sad_gif_14.gif successfully!\n",
            "Downloaded sad_gif_15.gif successfully!\n",
            "Downloaded sad_gif_16.gif successfully!\n",
            "Downloaded sad_gif_17.gif successfully!\n",
            "Downloaded sad_gif_18.gif successfully!\n",
            "Downloaded sad_gif_19.gif successfully!\n",
            "Downloaded sad_gif_20.gif successfully!\n",
            "Downloaded sad_gif_21.gif successfully!\n",
            "Downloaded sad_gif_22.gif successfully!\n",
            "Downloaded sad_gif_23.gif successfully!\n",
            "Downloaded sad_gif_24.gif successfully!\n",
            "Downloaded sad_gif_25.gif successfully!\n",
            "Downloaded sad_gif_26.gif successfully!\n",
            "Downloaded sad_gif_27.gif successfully!\n",
            "Downloaded sad_gif_28.gif successfully!\n",
            "Downloaded sad_gif_29.gif successfully!\n",
            "Downloaded sad_gif_30.gif successfully!\n",
            "Downloaded sad_gif_31.gif successfully!\n",
            "Downloaded sad_gif_32.gif successfully!\n",
            "Downloaded sad_gif_33.gif successfully!\n",
            "Downloaded sad_gif_34.gif successfully!\n",
            "Downloaded sad_gif_35.gif successfully!\n",
            "Downloaded sad_gif_36.gif successfully!\n",
            "Downloaded sad_gif_37.gif successfully!\n",
            "Downloaded sad_gif_38.gif successfully!\n",
            "Downloaded sad_gif_39.gif successfully!\n",
            "Downloaded sad_gif_40.gif successfully!\n",
            "Downloaded sad_gif_41.gif successfully!\n",
            "Downloaded sad_gif_42.gif successfully!\n",
            "Downloaded sad_gif_43.gif successfully!\n",
            "Downloaded sad_gif_44.gif successfully!\n",
            "Downloaded sad_gif_45.gif successfully!\n",
            "Downloaded sad_gif_46.gif successfully!\n",
            "Downloaded sad_gif_47.gif successfully!\n",
            "Downloaded sad_gif_48.gif successfully!\n",
            "Downloaded sad_gif_49.gif successfully!\n"
          ]
        }
      ]
    },
    {
      "cell_type": "code",
      "source": [],
      "metadata": {
        "id": "L41BetAnbL0w"
      },
      "execution_count": null,
      "outputs": []
    }
  ]
}