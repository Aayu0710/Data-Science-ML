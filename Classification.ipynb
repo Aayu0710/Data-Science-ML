{
  "nbformat": 4,
  "nbformat_minor": 0,
  "metadata": {
    "colab": {
      "name": "Classification.ipynb",
      "provenance": [],
      "authorship_tag": "ABX9TyOg9VlDXlnn8G1fLLEfd2sj",
      "include_colab_link": true
    },
    "kernelspec": {
      "name": "python3",
      "display_name": "Python 3"
    },
    "language_info": {
      "name": "python"
    }
  },
  "cells": [
    {
      "cell_type": "markdown",
      "metadata": {
        "id": "view-in-github",
        "colab_type": "text"
      },
      "source": [
        "<a href=\"https://colab.research.google.com/github/Aayu0710/Data-Science-ML/blob/main/Classification.ipynb\" target=\"_parent\"><img src=\"https://colab.research.google.com/assets/colab-badge.svg\" alt=\"Open In Colab\"/></a>"
      ]
    },
    {
      "cell_type": "code",
      "execution_count": null,
      "metadata": {
        "id": "dFs8BiXLzB8o"
      },
      "outputs": [],
      "source": [
        "%tensorflow_version 2.x\n",
        "from __future__ import absolute_import, division, print_function, unicode_literals\n",
        "import tensorflow as tf\n",
        "import pandas as pd\n",
        "\n",
        "#We define some constants to help us later \n",
        "CSV_COLUMN_NAME = ['SepalLength', 'SepalWidth', 'PetalLenght', 'PetalWidth','Species']\n",
        "SPECIES = ['Setosa', 'Versicolor', 'Virginica']\n",
        "\n",
        "#importing datasets\n",
        "train_path = tf.keras.utils.get_file(\n",
        "    \"iris_training.csv\", \"https://storage.googleapis.com/download.tensorflow.org/data/iris_training.csv\")\n",
        "test_path = tf.keras.utils.get_file(\n",
        "    \"iris_test.csv\", \"https://storage.googleapis.com/download.tensorflow.org/data/iris_test.csv\")\n",
        "#read the data from the csv filesn as Panda dataframe\n",
        "train = pd.read_csv(train_path, names=CSV_COLUMN_NAME, header=0)\n",
        "test = pd.read_csv(test_path, names=CSV_COLUMN_NAME, header=0)\n",
        "\n",
        "#we usually pop the label or column which we need to predict\n",
        "y_train = train.pop('Species')\n",
        "y_test = test.pop('Species')\n",
        "train.head() #speices column is gone\n",
        "train.shape # we have 124 entries with 4 features\n",
        "\n",
        "def input_fun(features, labels, training = True, batch_size=256):\n",
        "  # now we need to convert the input as dataset object\n",
        "  # we dont have any epochs as its only classification\n",
        "  dataset = tf.data.Dataset.from_tensor_slices((dict(features), labels))\n",
        "  #shuffling and repaeating\n",
        "  if training:\n",
        "    dataset = dataset.shuffle(1000).repeat()\n",
        "  return dataset.batch(batch_size)\n",
        "\n",
        "\n",
        "#Feature column\n",
        "my_feature_column = []\n",
        "for key in train.keys():\n",
        "  my_feature_column.append(tf.feature_column.numeric_column(key=key))\n",
        "print(my_feature_column)\n",
        "\n",
        "#We will use DDN as n our data may not be any linear depence \n",
        "classifier = tf.estimator.DNNClassifier(\n",
        "    feature_columns = my_feature_column,\n",
        "    hidden_units =[30,10], # we build a 2 hidden layers of 30 and 10 nodes each\n",
        "    n_classes = 3) #the model must choose b/w two classes\n",
        "\n",
        "classifier.train(\n",
        "    input_fn=lambda: input_fun(train, y_train, training=True),\n",
        "    steps=5000)\n",
        "\n",
        "#this is same as x = lamdbda: print(\"Hi\")\n",
        "\n",
        "#now its time for evalution  of model\n",
        "\n",
        "eval_result = classifier.evaluate(input_fn=lambda: input_fun(test, y_test, training=False),\n",
        "    steps=5000)\n",
        "print('\\n test set accuracy: {accuracy:0.3f}\\n'.format(**eval_result))\n",
        "\n",
        "\n",
        "# we need to create an input function again\n",
        "\n",
        "def input_fn(features, batch_size=256):\n",
        "  return tf.data.Dataset.from_tensor_slices(dict(features)).batch(batch_size)\n",
        "features =  ['SepalLength', 'SepalWidth', 'PetalLenght', 'PetalWidth']\n",
        "predict = {}\n",
        "\n",
        "print(\"Please enter the features:\") \n",
        "for feature in features:\n",
        "  valid = True\n",
        "  while valid:\n",
        "    val = input(feature + \": \")\n",
        "    if not val.isdigit(): valid = False\n",
        "\n",
        "  predict[feature] = [float(val)]\n",
        "\n",
        "predictions = classifier.predict(input_fn=lambda:input_fn(predict))\n",
        "for pred_dict in predictions:\n",
        "  class_id = pred_dict['class_ids'][0]\n",
        "  probability = pred_dict['probabilities'][class_id]\n",
        "\n",
        "  print('prediction is \"{}\" ({:.1f}%)'.format\n",
        "  (\n",
        "      SPECIES[class_id], 100*probability\n",
        "  ))"
      ]
    }
  ]
}